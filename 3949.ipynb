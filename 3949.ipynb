{
  "nbformat": 4,
  "nbformat_minor": 0,
  "metadata": {
    "colab": {
      "name": "3949.ipynb",
      "provenance": [],
      "authorship_tag": "ABX9TyMnR8Uk/iiv1mWHAkdRFddz",
      "include_colab_link": true
    },
    "kernelspec": {
      "name": "python3",
      "display_name": "Python 3"
    },
    "language_info": {
      "name": "python"
    }
  },
  "cells": [
    {
      "cell_type": "markdown",
      "metadata": {
        "id": "view-in-github",
        "colab_type": "text"
      },
      "source": [
        "<a href=\"https://colab.research.google.com/github/mosful/Moss/blob/master/3949.ipynb\" target=\"_parent\"><img src=\"https://colab.research.google.com/assets/colab-badge.svg\" alt=\"Open In Colab\"/></a>"
      ]
    },
    {
      "cell_type": "markdown",
      "source": [
        "# 3949 auto reply covid-19 health status\n",
        "\n",
        "\n",
        "> 參考：\n",
        "\n",
        "\n",
        "* [[Python爬蟲教學]整合Python Selenium及BeautifulSoup實現動態網頁爬蟲](https://www.learncodewithmike.com/2020/05/python-selenium-scraper.html)\n",
        "*   \n",
        "\n",
        "\n",
        "\n",
        "> 要再把它變成Job\n",
        "\n",
        "\n",
        "\n"
      ],
      "metadata": {
        "id": "n93KvYmgrgPD"
      }
    },
    {
      "cell_type": "code",
      "source": [
        "#COVID-19\n",
        "#[No.3949]新型冠狀病毒(COVID-19)防疫_健康管理 Epidemic prevention of Novel Corona virus (COVID-19) _health management\n",
        "\n",
        "#!pip install beautifulsoup4\n",
        "import time\n",
        "# install chromium, its driver, and selenium\n",
        "!apt-get update\n",
        "!apt install chromium-chromedriver\n",
        "!cp /usr/lib/chromium-browser/chromedriver /usr/bin\n",
        "!pip install selenium\n",
        "# set options to be headless, ..\n",
        "from selenium import webdriver\n",
        "options = webdriver.ChromeOptions()\n",
        "options.add_argument('--headless')\n",
        "options.add_argument('--no-sandbox')\n",
        "options.add_argument('--disable-dev-shm-usage')\n",
        "# open it, go to a website, and get results\n",
        "wd = webdriver.Chrome('chromedriver',options=options)\n",
        "wd.get(\"https://www.website.com\")\n",
        "#print(wd.page_source)  # results\n",
        "\n",
        "wd = webdriver.Chrome('chromedriver',options=options)\n",
        "wd.get(\"https://qnaire.ab1.auo.com/zh-hant/node/3949\")\n",
        "\n",
        "\n",
        "#name = wd.find_element(\"edit-name\")\n",
        "#password = wd.find_elements_by_id(\"edit-pass\")\n",
        "name = wd.find_element_by_xpath(\".//*[@id='edit-name']\")\n",
        "password = wd.find_element_by_xpath(\".//*[@id='edit-pass']\")\n",
        "#password.send_keys('edit-pass')\n",
        "#submitt = wd.find_elements_by_id(\"edit-submit\")\n",
        "submitt = wd.find_element_by_xpath(\".//*[@id='edit-submit']\")\n",
        "\n",
        "name.send_keys('n')\n",
        "password.send_keys('1')\n",
        "submitt.submit()\n",
        "\n",
        "#今日工作區域\n",
        "#document.getElementById(\"edit-submitted-work-area-8\").checked = true\n",
        "checkbox1 = wd.find_element_by_xpath(\".//*[@id='edit-submitted-work-area-8']\")\n",
        "checkbox1.click()\n",
        "time.sleep(2)\n",
        "if checkbox1:\n",
        "  print(\"今日工作區域\")\n",
        "\n",
        "#健康狀況/Health Conditions *無任何不適/No discomfort\n",
        "checkbox2 = wd.find_element_by_xpath(\".//*[@id='edit-submitted-health-status-1']\")\n",
        "checkbox2.click()\n",
        "time.sleep(2)\n",
        "if checkbox2:\n",
        "  print(\"健康狀況\")\n",
        "\n",
        "#(承上題)是否有類似症狀就醫/Whether there are similar symptoms above treated? \n",
        "wd.find_element_by_xpath(\"//input[@id='edit-submitted-hospital-2']\").click();\n",
        "#radio3.click()\n",
        "time.sleep(2)\n",
        " \n",
        "#您或您的家人（室友）三天內是否接受過醫院或社區篩檢站COVID-19檢測? Did you or your family whom you are living with (roommates) have been tested for COVID-19 in the hospital or community screening station within 3days? *\n",
        "wd.find_element_by_xpath(\"//input[@id='edit-submitted-tested-1']\").click();\n",
        "time.sleep(2)\n",
        "\n",
        "#14天內本人是否有收到疾管署或衛生機關相關健康防疫通知/Did you received any health and epidemic prevention notice from the CDC or health authorities within 14 days? *\n",
        "wd.find_element_by_xpath(\"//input[@id='edit-submitted-prevention-notice-1']\").click();\n",
        "time.sleep(2)\n",
        "\n",
        "#(新增)您或您的同住家人是否與疾管局或當地衛生局公告的確診者同職場或同足跡（時間地點吻合）？Are you or your family whom you are living with went to the same school, same workplace or been to the same places(time and location coincide) with the confirmed cases announced by CDC.? *\n",
        "wd.find_element_by_xpath(\"//input[@id='edit-submitted-20200520-1']\").click();\n",
        "time.sleep(2)\n",
        "\n",
        "#(新增)請問您是否已經完成Covid-19疫苗施打？Have you taken the COVID-19 vaccine? *\n",
        "wd.find_element_by_xpath(\"//input[@id='edit-submitted-20210803-1-3']\").click();\n",
        "time.sleep(2)\n",
        "\n",
        "#送出吧\n",
        "submitAll = wd.find_element_by_name('op')\n",
        "if submitAll:\n",
        "  print(\"submitAll\")\n",
        "\n",
        "submitAll.submit()\n",
        "\n",
        "#print(wd.page_source)  # results"
      ],
      "metadata": {
        "id": "7cT6yKsPIvjd"
      },
      "execution_count": null,
      "outputs": []
    }
  ]
}
